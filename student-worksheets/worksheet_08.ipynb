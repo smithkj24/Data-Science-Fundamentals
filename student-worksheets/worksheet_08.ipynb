{
 "cells": [
  {
   "cell_type": "markdown",
   "metadata": {},
   "source": [
    "# Worksheet 08\n",
    "\n",
    "Name:  Kevin Smith\n",
    "UID: U76047763\n",
    "\n",
    "### Topics\n",
    "\n",
    "- Soft Clustering\n",
    "- Clustering Aggregation\n",
    "\n",
    "### Probability Review\n",
    "\n",
    "Read through [the following](https://medium.com/@gallettilance/overview-of-probability-3272b72c82c8)\n",
    "\n",
    "### Soft Clustering\n",
    "\n",
    "We generate 10 data points that come from a normal distribution with mean 5 and variance 1."
   ]
  },
  {
   "cell_type": "code",
   "execution_count": 8,
   "metadata": {},
   "outputs": [
    {
     "name": "stdout",
     "output_type": "stream",
     "text": [
      "[2.221336632737459, 5.0686924652488115, 5.81137391937799, 2.2190389807313506, 4.7821498668621905, 4.70136881478748, 3.9144919240128226, 4.473451877203494, 5.208661820383679, 4.896408974025199]\n"
     ]
    }
   ],
   "source": [
    "import random\n",
    "import numpy as np\n",
    "from sklearn.cluster import KMeans\n",
    "\n",
    "mean = 5\n",
    "stdev = 1\n",
    "\n",
    "c1 = np.random.normal(mean, stdev, 10).tolist()\n",
    "print(c1)"
   ]
  },
  {
   "cell_type": "markdown",
   "metadata": {},
   "source": [
    "a) Generate 10 more data points, this time coming from a normal distribution with mean 8 and variance 1."
   ]
  },
  {
   "cell_type": "code",
   "execution_count": 9,
   "metadata": {},
   "outputs": [
    {
     "name": "stdout",
     "output_type": "stream",
     "text": [
      "[6.471284736489576, 8.748968542742755, 8.14474456272164, 8.839855241606825, 8.168418968259974, 6.648249430315453, 10.219827523751883, 7.65765718553343, 9.966806075495771, 9.346149614212907]\n"
     ]
    }
   ],
   "source": [
    "c2 = np.random.normal(8,1,10).tolist()\n",
    "print(c2)"
   ]
  },
  {
   "cell_type": "markdown",
   "metadata": {},
   "source": [
    "b) Flip a fair coin 10 times. If the coin lands on H, then pick the last data point of `c1` and remove it from `c1`, if T then pick the last data point from `c2` and remove it from `c2`. Add these 10 points to a list called `data`."
   ]
  },
  {
   "cell_type": "code",
   "execution_count": 10,
   "metadata": {},
   "outputs": [
    {
     "name": "stdout",
     "output_type": "stream",
     "text": [
      "[9.346149614212907, 4.896408974025199, 5.208661820383679, 9.966806075495771, 7.65765718553343, 4.473451877203494, 3.9144919240128226, 10.219827523751883, 4.70136881478748, 4.7821498668621905]\n"
     ]
    }
   ],
   "source": [
    "data = []\n",
    "for i in range(10):\n",
    "    # flip coin\n",
    "    coin_output = random.choice([0, 1])\n",
    "    if coin_output == 0:\n",
    "        p1 = c1.pop()\n",
    "        data.append(p1)\n",
    "    else:\n",
    "        p2 = c2.pop()\n",
    "        data.append(p2)\n",
    "print(data)"
   ]
  },
  {
   "cell_type": "markdown",
   "metadata": {},
   "source": [
    "c) This `data` is a Gaussian Mixture Distribution with 2 mixture components. Over the next few questions we will walk through the GMM algorithm to see if we can uncover the parameters we used to generate this data. First, please list all these parameters of the GMM that created `data` and the values we know they have."
   ]
  },
  {
   "cell_type": "markdown",
   "metadata": {},
   "source": [
    "Prior probability: $[0.5,0.5]$\n",
    "\n",
    "Gaussian distribution 1: mean $5$, variance $1$\n",
    "\n",
    "Gaussian distribution 2: mean $8$, variance $1$"
   ]
  },
  {
   "cell_type": "markdown",
   "metadata": {},
   "source": [
    "d) Let's assume there are two mixture components (note: we could plot the data and make the observation that there are two clusters). The EM algorithm asks us to start with a random `mean_j`, `variance_j`, `P(C_j)` for each component j. One method we could use to find sensible values for these is to apply K means with k=2 here.\n",
    "\n",
    "1. the centroids would be the estimates of the `mean_j`\n",
    "2. the intra-cluster variance could be the estimate of `variance_j`\n",
    "3. the proportion of points in each cluster could be the estimate of `P(C_j)`\n",
    "\n",
    "Go through this process and list the parameter estimates it gives. Are they close or far from the true values?"
   ]
  },
  {
   "cell_type": "code",
   "execution_count": 18,
   "metadata": {},
   "outputs": [
    {
     "name": "stdout",
     "output_type": "stream",
     "text": [
      "[4.896408974025199, 5.208661820383679, 4.473451877203494, 3.9144919240128226, 4.70136881478748, 4.7821498668621905]\n",
      "[9.346149614212907, 9.966806075495771, 7.65765718553343, 10.219827523751883]\n",
      "P(C_1) = 0.6,  P(C_2) = 0.4\n",
      "mean_1 = 4.662755546212478,  mean_2 = 9.297610099748498\n",
      "var_1 = 0.16068131670486344,  var_2 = 22.47940420153326\n"
     ]
    }
   ],
   "source": [
    "kmeans = KMeans(2, init='k-means++').fit(X=np.array(data).reshape(-1, 1))\n",
    "\n",
    "c1 = [x[0] for x in filter(lambda x: x[1] == 0, zip(data, kmeans.labels_))]\n",
    "print(c1)\n",
    "c2 = [x[0] for x in filter(lambda x: x[1] == 1, zip(data, kmeans.labels_))]\n",
    "print(c2)\n",
    "\n",
    "prob_c = [ len(c1) / (len(c1) + len(c2)) , len(c2) / (len(c1) + len(c2)) ]\n",
    "mean = [ sum(c1)/len(c1) , sum(c2)/len(c2) ]\n",
    "var = [ sum(map(lambda x : (x - mean[0])**2, c1)) / len(c1) , sum(map(lambda x : (x - mean[0])**2, c2)) / len(c2) ]\n",
    "\n",
    "print(\"P(C_1) = \" + str(prob_c[0]) + \",  P(C_2) = \" + str(prob_c[1]))\n",
    "print(\"mean_1 = \" + str(mean[0]) + \",  mean_2 = \" + str(mean[1]))\n",
    "print(\"var_1 = \" + str(var[0]) + \",  var_2 = \" + str(var[1]))"
   ]
  },
  {
   "cell_type": "markdown",
   "metadata": {},
   "source": [
    "The means are fairly close, but could be closer. mean_1 is about 0.34 off, while mean_2 is about 1.3 off."
   ]
  },
  {
   "cell_type": "markdown",
   "metadata": {},
   "source": [
    "e) For each data point, compute `P(C_j | X_i)`. Comment on which cluster you think each point belongs to based on the estimated probabilities. How does that compare to the truth?"
   ]
  },
  {
   "cell_type": "code",
   "execution_count": 19,
   "metadata": {},
   "outputs": [
    {
     "name": "stdout",
     "output_type": "stream",
     "text": [
      "point =  9.346149614212907\n",
      "probability of observing that point if it came from cluster 0 =  8.256312638067232e-185\n",
      "probability of observing that point if it came from cluster 1 =  0.01774697170737011\n",
      "point =  4.896408974025199\n",
      "probability of observing that point if it came from cluster 0 =  0.8625427859877188\n",
      "probability of observing that point if it came from cluster 1 =  0.01741010393008851\n",
      "point =  5.208661820383679\n",
      "probability of observing that point if it came from cluster 0 =  0.00773554242102416\n",
      "probability of observing that point if it came from cluster 1 =  0.01745583309250687\n",
      "point =  9.966806075495771\n",
      "probability of observing that point if it came from cluster 0 =  6.050699271098114e-237\n",
      "probability of observing that point if it came from cluster 1 =  0.017739151024752525\n",
      "point =  7.65765718553343\n",
      "probability of observing that point if it came from cluster 0 =  9.061560197864862e-76\n",
      "probability of observing that point if it came from cluster 1 =  0.01769984907126309\n",
      "point =  4.473451877203494\n",
      "probability of observing that point if it came from cluster 0 =  1.2403544739948704\n",
      "probability of observing that point if it came from cluster 1 =  0.017343016170944695\n",
      "point =  3.9144919240128226\n",
      "probability of observing that point if it came from cluster 0 =  4.8517671957573436e-05\n",
      "probability of observing that point if it came from cluster 1 =  0.017245384591856597\n",
      "point =  10.219827523751883\n",
      "probability of observing that point if it came from cluster 0 =  4.6649154450831756e-260\n",
      "probability of observing that point if it came from cluster 1 =  0.017732084806007103\n",
      "point =  4.70136881478748\n",
      "probability of observing that point if it came from cluster 0 =  2.4121522081051197\n",
      "probability of observing that point if it came from cluster 1 =  0.017379899691019923\n",
      "point =  4.7821498668621905\n",
      "probability of observing that point if it came from cluster 0 =  1.8838767878319829\n",
      "probability of observing that point if it came from cluster 1 =  0.017392562055908067\n",
      "9.346149614212907\n",
      "Probability of coming from C_1 = 6.978356173271929e-183\n",
      "Probability of coming from C_2 = 1.0\n",
      "\n",
      "4.896408974025199\n",
      "Probability of coming from C_1 = 0.9867222532735375\n",
      "Probability of coming from C_2 = 0.013277746726462489\n",
      "\n",
      "5.208661820383679\n",
      "Probability of coming from C_1 = 0.39929987420917035\n",
      "Probability of coming from C_2 = 0.6007001257908297\n",
      "\n",
      "9.966806075495771\n",
      "Probability of coming from C_1 = 5.116394180298033e-235\n",
      "Probability of coming from C_2 = 1.0\n",
      "\n",
      "7.65765718553343\n",
      "Probability of coming from C_1 = 7.679353785488138e-74\n",
      "Probability of coming from C_2 = 1.0\n",
      "\n",
      "4.473451877203494\n",
      "Probability of coming from C_1 = 0.990764551053337\n",
      "Probability of coming from C_2 = 0.009235448946662887\n",
      "\n",
      "3.9144919240128226\n",
      "Probability of coming from C_1 = 0.00420232307096567\n",
      "Probability of coming from C_2 = 0.9957976769290343\n",
      "\n",
      "10.219827523751883\n",
      "Probability of coming from C_1 = 3.946164957012985e-258\n",
      "Probability of coming from C_2 = 1.0\n",
      "\n",
      "4.70136881478748\n",
      "Probability of coming from C_1 = 0.9952195344827373\n",
      "Probability of coming from C_2 = 0.00478046551726273\n",
      "\n",
      "4.7821498668621905\n",
      "Probability of coming from C_1 = 0.9938827677668609\n",
      "Probability of coming from C_2 = 0.006117232233139192\n",
      "\n"
     ]
    }
   ],
   "source": [
    "from scipy.stats import norm\n",
    "\n",
    "prob_c0_x = [] # P(C_0 | X_i)\n",
    "prob_c1_x = [] # P(C_1 | X_i)\n",
    "prob_x = [] # P(X_i)\n",
    "\n",
    "k = 2\n",
    "\n",
    "for p in data:\n",
    "    print(\"point = \", p)\n",
    "    pdf_i = []\n",
    "\n",
    "    for j in range(k):\n",
    "        # P(X_i | C_j)\n",
    "        pdf_i.append(norm.pdf(p, mean[j], var[j]))\n",
    "        print(\"probability of observing that point if it came from cluster \" + str(j) + \" = \", pdf_i[j])\n",
    "        # P(C_j) already computed\n",
    "        prob_c[j]\n",
    "\n",
    "    # P(X_i) = P(C_0)P(X_i | C_0) + P(C_1)P(X_i | C_1)\n",
    "    prob_x = prob_c[0] * pdf_i[0] + prob_c[1] * pdf_i[1]\n",
    "\n",
    "    # P(C_j | X_i) = P(X_i | C_j)P(C_j) / P(X_i)\n",
    "    prob_c0_x.append(pdf_i[0] * prob_c[0] / prob_x)\n",
    "    prob_c1_x.append(pdf_i[1] * prob_c[1] / prob_x)\n",
    "\n",
    "probs = zip(data, prob_c0_x, prob_c1_x)\n",
    "for p in probs:\n",
    "    print(p[0])\n",
    "    print(\"Probability of coming from C_1 = \" + str(p[1]))\n",
    "    print(\"Probability of coming from C_2 = \" + str(p[2]))\n",
    "    print()\n"
   ]
  },
  {
   "cell_type": "markdown",
   "metadata": {},
   "source": [
    "f) Having computed `P(C_j | X_i)`, update the estimates of `mean_j`, `var_j`, and `P(C_j)`. How different are these values from the original ones you got from K means? briefly comment."
   ]
  },
  {
   "cell_type": "code",
   "execution_count": 24,
   "metadata": {},
   "outputs": [
    {
     "name": "stdout",
     "output_type": "stream",
     "text": [
      "P(C_1) = 0.5032131172378504,  P(C_2) = 0.4350567915655885\n",
      "mean_1 = 3.178282019866314,  mean_2 = 7.846081229951805\n",
      "var_1 = 2.364342967127477,  var_2 = 38.443703618334254\n"
     ]
    }
   ],
   "source": [
    "prob_c = [sum(prob_c0_x)/ len(prob_c0_x), sum(prob_c1_x)/ len(prob_c1_x) ]\n",
    "mean = [sum([x[0] * x[1] for x in zip(prob_c0_x, data)]) / sum(prob_c0_x), sum([x[0] * x[1] for x in zip(prob_c1_x, data)]) / sum(prob_c1_x) ]\n",
    "var = [ sum(map(lambda x : (x - mean[0])**2, c1)) / len(c1) , sum(map(lambda x : (x - mean[0])**2, c2)) / len(c2) ]\n",
    "\n",
    "print(\"P(C_1) = \" + str(prob_c[0]) + \",  P(C_2) = \" + str(prob_c[1]))\n",
    "print(\"mean_1 = \" + str(mean[0]) + \",  mean_2 = \" + str(mean[1]))\n",
    "print(\"var_1 = \" + str(var[0]) + \",  var_2 = \" + str(var[1]))"
   ]
  },
  {
   "cell_type": "markdown",
   "metadata": {},
   "source": [
    "These calculated means are closer! mean_1 is closer by about 0.1 while mean_2 is closer by around 1.1"
   ]
  },
  {
   "cell_type": "markdown",
   "metadata": {},
   "source": [
    "g) Update `P(C_j | X_i)`. Comment on any differences or lack thereof you observe."
   ]
  },
  {
   "cell_type": "code",
   "execution_count": 25,
   "metadata": {},
   "outputs": [
    {
     "name": "stdout",
     "output_type": "stream",
     "text": [
      "9.346149614212907\n",
      "Probability of coming from C_1 = 6.978356173271929e-183\n",
      "Probability of coming from C_2 = 1.0\n",
      "\n",
      "4.896408974025199\n",
      "Probability of coming from C_1 = 0.9867222532735375\n",
      "Probability of coming from C_2 = 0.013277746726462489\n",
      "\n",
      "5.208661820383679\n",
      "Probability of coming from C_1 = 0.39929987420917035\n",
      "Probability of coming from C_2 = 0.6007001257908297\n",
      "\n",
      "9.966806075495771\n",
      "Probability of coming from C_1 = 5.116394180298033e-235\n",
      "Probability of coming from C_2 = 1.0\n",
      "\n",
      "7.65765718553343\n",
      "Probability of coming from C_1 = 7.679353785488138e-74\n",
      "Probability of coming from C_2 = 1.0\n",
      "\n",
      "4.473451877203494\n",
      "Probability of coming from C_1 = 0.990764551053337\n",
      "Probability of coming from C_2 = 0.009235448946662887\n",
      "\n",
      "3.9144919240128226\n",
      "Probability of coming from C_1 = 0.00420232307096567\n",
      "Probability of coming from C_2 = 0.9957976769290343\n",
      "\n",
      "10.219827523751883\n",
      "Probability of coming from C_1 = 3.946164957012985e-258\n",
      "Probability of coming from C_2 = 1.0\n",
      "\n",
      "4.70136881478748\n",
      "Probability of coming from C_1 = 0.9952195344827373\n",
      "Probability of coming from C_2 = 0.00478046551726273\n",
      "\n",
      "4.7821498668621905\n",
      "Probability of coming from C_1 = 0.9938827677668609\n",
      "Probability of coming from C_2 = 0.006117232233139192\n",
      "\n"
     ]
    }
   ],
   "source": [
    "prob_c0_x.append(pdf_i[0] * prob_c[0] / prob_x)\n",
    "prob_c1_x.append(pdf_i[1] * prob_c[1] / prob_x)\n",
    "\n",
    "probs = zip(data, prob_c0_x, prob_c1_x)\n",
    "for p in probs:\n",
    "    print(p[0])\n",
    "    print(\"Probability of coming from C_1 = \" + str(p[1]))\n",
    "    print(\"Probability of coming from C_2 = \" + str(p[2]))\n",
    "    print()"
   ]
  },
  {
   "cell_type": "markdown",
   "metadata": {},
   "source": [
    "They're the same! Might be an issue with my code but they are giving the same values."
   ]
  },
  {
   "cell_type": "markdown",
   "metadata": {},
   "source": [
    "h) Use `P(C_j | X_i)` to create a hard assignment - label each point as belonging to a specific cluster (0 or 1)"
   ]
  },
  {
   "cell_type": "code",
   "execution_count": 27,
   "metadata": {},
   "outputs": [
    {
     "name": "stdout",
     "output_type": "stream",
     "text": [
      "9.346149614212907\n",
      "This point is most likely from C_2\n",
      "4.896408974025199\n",
      "This point is most likely from C_1\n",
      "5.208661820383679\n",
      "This point is most likely from C_2\n",
      "9.966806075495771\n",
      "This point is most likely from C_2\n",
      "7.65765718553343\n",
      "This point is most likely from C_2\n",
      "4.473451877203494\n",
      "This point is most likely from C_1\n",
      "3.9144919240128226\n",
      "This point is most likely from C_2\n",
      "10.219827523751883\n",
      "This point is most likely from C_2\n",
      "4.70136881478748\n",
      "This point is most likely from C_1\n",
      "4.7821498668621905\n",
      "This point is most likely from C_1\n"
     ]
    }
   ],
   "source": [
    "probs = zip(data, prob_c0_x, prob_c1_x)\n",
    "for p in probs:\n",
    "    print(p[0])\n",
    "    if p[1] > p[2]:\n",
    "        print(\"This point is most likely from C_1\")\n",
    "    elif p[2] > p[1]:\n",
    "        print(\"This point is most likely from C_2\")\n",
    "    else:\n",
    "        print(\"This point is equally likely to have come from C_1 and C_2\")"
   ]
  },
  {
   "cell_type": "markdown",
   "metadata": {},
   "source": [
    "### Clustering Aggregation\n",
    "\n",
    "| Point | C | P |\n",
    "|-------|---|---|\n",
    "| A     | 0 | a |\n",
    "| B     | 0 | b |\n",
    "| C     | 2 | b |\n",
    "| D     | 1 | c |\n",
    "| E     | 1 | d |\n",
    "\n",
    "a) Fill in the following table where for each pair of points determine whether C and P agree or disagree on how to cluster that pair."
   ]
  },
  {
   "cell_type": "markdown",
   "metadata": {},
   "source": [
    "| Pair | Disagreement |\n",
    "|------|--------------|\n",
    "| A  B |      YES       |\n",
    "| A  C |      NO       |\n",
    "| A  D |      NO       |\n",
    "| A  E |      NO       |\n",
    "| B  C |      YES       |\n",
    "| B  D |      NO       |\n",
    "| B  E |      NO       |\n",
    "| C  D |      NO       |\n",
    "| C  E |      NO       |\n",
    "| D  E |      YES       |\n"
   ]
  },
  {
   "cell_type": "markdown",
   "metadata": {},
   "source": [
    "As datasets become very large, this process can become computationally challenging.\n",
    "\n",
    "b) Given N points, what is the formula for the number of unique pairs of points one can create?"
   ]
  },
  {
   "cell_type": "markdown",
   "metadata": {},
   "source": [
    "$\\frac{n(n-1)}{2}$"
   ]
  },
  {
   "cell_type": "markdown",
   "metadata": {},
   "source": [
    "Assume that clustering C clusters all points in the same cluster and clustering P clusters points as such:\n",
    "\n",
    "| Point | P |\n",
    "|-------|---|\n",
    "| A     | 0 |\n",
    "| B     | 0 |\n",
    "| C     | 0 |\n",
    "| D     | 1 |\n",
    "| E     | 1 |\n",
    "| F     | 2 |\n",
    "| G     | 2 |\n",
    "| H     | 2 |\n",
    "| I     | 2 |\n",
    "\n",
    "c) What is the maximum number of disagreements there could be for a dataset of this size? (use the formula from b)?"
   ]
  },
  {
   "cell_type": "markdown",
   "metadata": {},
   "source": [
    "36"
   ]
  },
  {
   "cell_type": "markdown",
   "metadata": {},
   "source": [
    "d) If we look at cluster 0. There are (3 x 2) / 2 = 3 pairs that agree with C (since all points in C are in the same cluster). For each cluster, determine how many agreements there are. How many total agreements are there? How many disagreements does that mean there are between C and P?"
   ]
  },
  {
   "cell_type": "markdown",
   "metadata": {},
   "source": [
    "1 agreement for cluster 1 (DE), and 6 agreements for cluster 2 (FG, FH, FI, GH, GI, and HI)"
   ]
  },
  {
   "cell_type": "markdown",
   "metadata": {},
   "source": [
    "e) Assuming that filtering the dataset by cluster number is a computationally easy operation, describe an algorithm inspired by the above process that can efficiently compute disagreement distances on large datasets."
   ]
  },
  {
   "cell_type": "markdown",
   "metadata": {},
   "source": [
    "We will represent Clusterings via a 2D matrix $A$ where each row represents one Datapoint, and each column represents a Clustering. Elements will be numbers representing assigned cluster ID.\n",
    "\n",
    "For example, column 1 might look like $[3,4,4,2,3,3,1,2,1,1,4,1,3,2]$ — this represents Clustering 1's cluster ID assignments for each of the points.\n",
    "\n",
    "Row 5 might look like $[1,1,4,2,3,2,5,1,7,3]$ — representing the Datapoint 5's cluster ID assignments according to each of the Clusterings.\n",
    "\n",
    "ALGORITHM:\n",
    "\n",
    "    A = 2D matrix as described above.\n",
    "    \n",
    "    disagreementTotal = 0\n",
    "\n",
    "    for i in range(len(A[0]-1)):                   #for each column (except the last)...\n",
    "        for j in range(i+1,len(A[0])):             #for each remaining column...\n",
    "            for k in range(numClusters(i)):\n",
    "                clusterID = k+1\n",
    "                iterate through each possible pair of points within this clusterID under column i\n",
    "                if that pair of points has conflicting clusterIDs in column j:\n",
    "                    disagreementTotal += 1\n",
    "    \n",
    "    return disagreementTotal\n",
    "            \n",
    "            "
   ]
  },
  {
   "cell_type": "code",
   "execution_count": null,
   "metadata": {},
   "outputs": [],
   "source": []
  }
 ],
 "metadata": {
  "interpreter": {
   "hash": "76ca05dc3ea24b2e3b98cdb7774adfbb40773424bf5109b477fd793f623715af"
  },
  "kernelspec": {
   "display_name": "Python 3 (ipykernel)",
   "language": "python",
   "name": "python3"
  },
  "language_info": {
   "codemirror_mode": {
    "name": "ipython",
    "version": 3
   },
   "file_extension": ".py",
   "mimetype": "text/x-python",
   "name": "python",
   "nbconvert_exporter": "python",
   "pygments_lexer": "ipython3",
   "version": "3.9.12"
  }
 },
 "nbformat": 4,
 "nbformat_minor": 2
}
