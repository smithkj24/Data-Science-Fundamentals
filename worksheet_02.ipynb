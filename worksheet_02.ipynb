{
 "cells": [
  {
   "attachments": {},
   "cell_type": "markdown",
   "metadata": {},
   "source": [
    "# Worksheet 02\n",
    "\n",
    "Name: Kevin Smith \n",
    "UID: U76047763\n",
    "\n",
    "### Topics\n",
    "\n",
    "- Effective Programming\n",
    "\n",
    "### Effective Programming\n",
    "\n",
    "a) What is a drawback of the top down approach?"
   ]
  },
  {
   "cell_type": "markdown",
   "metadata": {},
   "source": [
    "You won't have runnable code until the very end of the project."
   ]
  },
  {
   "cell_type": "markdown",
   "metadata": {},
   "source": [
    "b) What is a drawback of the bottom up approach?"
   ]
  },
  {
   "cell_type": "markdown",
   "metadata": {},
   "source": [
    "It's hard to know exactly what small-scale functions are going to be needed without coding the top high-level stuff first."
   ]
  },
  {
   "cell_type": "markdown",
   "metadata": {},
   "source": [
    "c) What are 3 things you can do to have a better debugging experience?"
   ]
  },
  {
   "cell_type": "markdown",
   "metadata": {},
   "source": [
    "1. Print statements throughout to check variable values\n",
    "2. Read the error statements closely\n",
    "3. Stack overflow / chatGPT usually have some ideas"
   ]
  },
  {
   "attachments": {},
   "cell_type": "markdown",
   "metadata": {},
   "source": [
    "d) Follow along with the live coding. You can write your code here:"
   ]
  },
  {
   "cell_type": "code",
   "execution_count": 17,
   "metadata": {},
   "outputs": [
    {
     "name": "stdout",
     "output_type": "stream",
     "text": [
      "- - - - - - - - \n",
      "- - - - - - - - \n",
      "- - - - - - - - \n",
      "- - - - - - - - \n",
      "- - - - - - - - \n",
      "- - - - - - - - \n",
      "- - - - - - - - \n",
      "- - - - - - - - \n",
      "\n"
     ]
    },
    {
     "ename": "IndexError",
     "evalue": "list assignment index out of range",
     "output_type": "error",
     "traceback": [
      "\u001b[0;31m---------------------------------------------------------------------------\u001b[0m",
      "\u001b[0;31mIndexError\u001b[0m                                Traceback (most recent call last)",
      "\u001b[1;32m/Users/kjsmith/Desktop/DOCSF2023/CS506/Worksheets/worksheet_02.ipynb Cell 8\u001b[0m line \u001b[0;36m7\n\u001b[1;32m     <a href='vscode-notebook-cell:/Users/kjsmith/Desktop/DOCSF2023/CS506/Worksheets/worksheet_02.ipynb#X11sZmlsZQ%3D%3D?line=76'>77</a>\u001b[0m board \u001b[39m=\u001b[39m Board()\n\u001b[1;32m     <a href='vscode-notebook-cell:/Users/kjsmith/Desktop/DOCSF2023/CS506/Worksheets/worksheet_02.ipynb#X11sZmlsZQ%3D%3D?line=77'>78</a>\u001b[0m \u001b[39mprint\u001b[39m(board)\n\u001b[0;32m---> <a href='vscode-notebook-cell:/Users/kjsmith/Desktop/DOCSF2023/CS506/Worksheets/worksheet_02.ipynb#X11sZmlsZQ%3D%3D?line=78'>79</a>\u001b[0m board\u001b[39m.\u001b[39;49msolve()\n",
      "\u001b[1;32m/Users/kjsmith/Desktop/DOCSF2023/CS506/Worksheets/worksheet_02.ipynb Cell 8\u001b[0m line \u001b[0;36m2\n\u001b[1;32m     <a href='vscode-notebook-cell:/Users/kjsmith/Desktop/DOCSF2023/CS506/Worksheets/worksheet_02.ipynb#X11sZmlsZQ%3D%3D?line=25'>26</a>\u001b[0m \u001b[39mwhile\u001b[39;00m col \u001b[39m>\u001b[39m\u001b[39m=\u001b[39m \u001b[39m8\u001b[39m:\n\u001b[1;32m     <a href='vscode-notebook-cell:/Users/kjsmith/Desktop/DOCSF2023/CS506/Worksheets/worksheet_02.ipynb#X11sZmlsZQ%3D%3D?line=26'>27</a>\u001b[0m     col \u001b[39m=\u001b[39m \u001b[39mself\u001b[39m\u001b[39m.\u001b[39mfind_queen_in_row(row\u001b[39m-\u001b[39m\u001b[39m1\u001b[39m)\n\u001b[0;32m---> <a href='vscode-notebook-cell:/Users/kjsmith/Desktop/DOCSF2023/CS506/Worksheets/worksheet_02.ipynb#X11sZmlsZQ%3D%3D?line=27'>28</a>\u001b[0m     \u001b[39mself\u001b[39;49m\u001b[39m.\u001b[39;49mremove_queen_at(row\u001b[39m-\u001b[39;49m\u001b[39m1\u001b[39;49m)\n\u001b[1;32m     <a href='vscode-notebook-cell:/Users/kjsmith/Desktop/DOCSF2023/CS506/Worksheets/worksheet_02.ipynb#X11sZmlsZQ%3D%3D?line=28'>29</a>\u001b[0m     col \u001b[39m+\u001b[39m\u001b[39m=\u001b[39m \u001b[39m1\u001b[39m\n\u001b[1;32m     <a href='vscode-notebook-cell:/Users/kjsmith/Desktop/DOCSF2023/CS506/Worksheets/worksheet_02.ipynb#X11sZmlsZQ%3D%3D?line=29'>30</a>\u001b[0m     row \u001b[39m-\u001b[39m\u001b[39m=\u001b[39m \u001b[39m1\u001b[39m\n",
      "\u001b[1;32m/Users/kjsmith/Desktop/DOCSF2023/CS506/Worksheets/worksheet_02.ipynb Cell 8\u001b[0m line \u001b[0;36m3\n\u001b[1;32m     <a href='vscode-notebook-cell:/Users/kjsmith/Desktop/DOCSF2023/CS506/Worksheets/worksheet_02.ipynb#X11sZmlsZQ%3D%3D?line=36'>37</a>\u001b[0m \u001b[39mdef\u001b[39;00m \u001b[39mremove_queen_at\u001b[39m(\u001b[39mself\u001b[39m,row):\n\u001b[0;32m---> <a href='vscode-notebook-cell:/Users/kjsmith/Desktop/DOCSF2023/CS506/Worksheets/worksheet_02.ipynb#X11sZmlsZQ%3D%3D?line=37'>38</a>\u001b[0m     \u001b[39mself\u001b[39;49m\u001b[39m.\u001b[39;49mboard[row] \u001b[39m=\u001b[39m \u001b[39m8\u001b[39m\u001b[39m*\u001b[39m[\u001b[39m'\u001b[39m\u001b[39m-\u001b[39m\u001b[39m'\u001b[39m]\n",
      "\u001b[0;31mIndexError\u001b[0m: list assignment index out of range"
     ]
    }
   ],
   "source": [
    "class Board:\n",
    "    \n",
    "    def __init__(self):\n",
    "        self.board = 8*[8*['-']]\n",
    "        \n",
    "    def __repr__(self):\n",
    "        res = \"\"\n",
    "        for row in self.board:\n",
    "            for col in row:\n",
    "                res += col\n",
    "                res += \" \"\n",
    "            res += '\\n'\n",
    "        return res\n",
    "    \n",
    "    def solve(self):\n",
    "        row,col = 0,0\n",
    "        while row < 8:\n",
    "            if self.is_legal(row,col):\n",
    "                self.set_queen_at(row,col)\n",
    "                row += 1\n",
    "                col = 0\n",
    "            else:\n",
    "                col += 1\n",
    "                while col >= 8:\n",
    "                    col = self.find_queen_in_row(row-1)\n",
    "                    self.remove_queen_at(row-1)\n",
    "                    col += 1\n",
    "                    row -= 1\n",
    "        print(\"Solution found:\")\n",
    "        print(self)\n",
    "        \n",
    "    def set_queen_at(self,row,col):\n",
    "        self.board[row][col] = 'Q'\n",
    "        \n",
    "    def remove_queen_at(self,row):\n",
    "        self.board[row] = 8*['-']\n",
    "        \n",
    "    def find_queen_in_row(self,row):\n",
    "        try:\n",
    "            return self.board[row].index('Q')\n",
    "        except:\n",
    "            return 0\n",
    "        \n",
    "    def is_legal(self,row,col):\n",
    "        if self.queen_in_row(row) or self.queen_in_col(col) or self.queen_in_diag(row,col):\n",
    "            return False\n",
    "        return True\n",
    "    \n",
    "    def queen_in_row(self,row):\n",
    "        for col in range(len(self.board[row])):\n",
    "            if self.board[row][col] == 'Q':\n",
    "                return True\n",
    "        return False\n",
    "    \n",
    "    def queen_in_col(self,col):\n",
    "        for row in range(len(self.board)):\n",
    "            if self.board[row][col] == 'Q':\n",
    "                return True\n",
    "        return False\n",
    "    \n",
    "    def queen_in_diag(self,row,col):\n",
    "        for i in range(len(self.board)):\n",
    "            if self.is_on_board(row-i,col-i) and self.board[row-i][col-i] == 'Q':\n",
    "                return False\n",
    "            if self.is_on_board(row+i,col-i) and self.board[row+i][col-i] == 'Q':\n",
    "                return False\n",
    "            if self.is_on_board(row-i,col+i) and self.board[row-i][col+i] == 'Q':\n",
    "                return False\n",
    "            if self.is_on_board(row+i,col+i) and self.board[row+i][col+i] == 'Q':\n",
    "                return False\n",
    "\n",
    "    def is_on_board(self,row,col):\n",
    "        return row >= 0 and row <= 7 and col >= 0 and col <= 7\n",
    "    \n",
    "myboard = Board()\n",
    "print(myboard)\n",
    "myboard.solve()"
   ]
  }
 ],
 "metadata": {
  "kernelspec": {
   "display_name": "Python 3",
   "language": "python",
   "name": "python3"
  },
  "language_info": {
   "codemirror_mode": {
    "name": "ipython",
    "version": 3
   },
   "file_extension": ".py",
   "mimetype": "text/x-python",
   "name": "python",
   "nbconvert_exporter": "python",
   "pygments_lexer": "ipython3",
   "version": "3.10.7"
  },
  "orig_nbformat": 4,
  "vscode": {
   "interpreter": {
    "hash": "76ca05dc3ea24b2e3b98cdb7774adfbb40773424bf5109b477fd793f623715af"
   }
  }
 },
 "nbformat": 4,
 "nbformat_minor": 2
}
